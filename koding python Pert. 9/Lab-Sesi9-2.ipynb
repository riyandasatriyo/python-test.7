{
 "cells": [
  {
   "cell_type": "markdown",
   "metadata": {
    "colab_type": "text",
    "id": "2PNeIGm35ipP"
   },
   "source": [
    "![title](img/header.png)"
   ]
  },
  {
   "cell_type": "markdown",
   "metadata": {
    "colab_type": "text",
    "id": "y2MpcmDt5iqh"
   },
   "source": [
    "<h1>Menulis dan Menyimpan Berkas di Python</h1>"
   ]
  },
  {
   "cell_type": "markdown",
   "metadata": {
    "colab_type": "text",
    "id": "jFIr2B-S5iqi"
   },
   "source": [
    "Pada notebook ini Anda akan mempelajari cara menulis ke berkas teks pada bahasa Python. Di akhir lab, Anda diharapkan dapat menulis berkas dan menyalin berkas."
   ]
  },
  {
   "cell_type": "markdown",
   "metadata": {
    "colab_type": "text",
    "id": "GbC1Ts0l5iqj"
   },
   "source": [
    "\n",
    "\n",
    "\n",
    "<h2>Daftar Isi</h2>\n",
    "<div class=\"alert alert-block alert-info\" style=\"margin-top: 20px\">\n",
    "    <ul>\n",
    "        <li><a href=\"write\">Menulis Berkas</a></li>\n",
    "        <li><a href=\"copy\">Menyalin Berkas</a></li>\n",
    "    </ul>\n",
    "    <p>\n",
    "        Perkiraan waktu pengerjaan: <strong>15 menit</strong>\n",
    "    </p>\n",
    "</div>\n",
    "\n",
    "<hr>"
   ]
  },
  {
   "cell_type": "markdown",
   "metadata": {
    "colab_type": "text",
    "id": "A7fdueKF5iqk"
   },
   "source": [
    "<h2 id=\"write\">Menulis Berkas</h2>"
   ]
  },
  {
   "cell_type": "markdown",
   "metadata": {
    "colab_type": "text",
    "id": "nEG5in625iql"
   },
   "source": [
    " Penulisan berkas diawali dengan proses membuka berkas menggunakan fungsi <code>open()</code> dengan parameter 'w' dilanjutkan dengan fungsi <code>write()</code>. Fungsi <code>write()</code> memerlukan parameter masukan berupa string."
   ]
  },
  {
   "cell_type": "code",
   "execution_count": 0,
   "metadata": {
    "colab": {},
    "colab_type": "code",
    "collapsed": true,
    "id": "QM4CnMv25iqm"
   },
   "outputs": [],
   "source": [
    "# Menulis string ke berkas\n",
    "\n",
    "with open('Example2.txt', 'w') as writefile:\n",
    "    writefile.write(\"This is line A\")"
   ]
  },
  {
   "cell_type": "markdown",
   "metadata": {
    "colab_type": "text",
    "id": "WLY3xgv65iqy"
   },
   "source": [
    " Untuk mengecek apakah berkas berhasil ditulis, kita dapat menggunakan perintah <code>read()</code>\n",
    "\n"
   ]
  },
  {
   "cell_type": "code",
   "execution_count": 0,
   "metadata": {
    "colab": {
     "base_uri": "https://localhost:8080/",
     "height": 34
    },
    "colab_type": "code",
    "executionInfo": {
     "elapsed": 944,
     "status": "ok",
     "timestamp": 1561622087900,
     "user": {
      "displayName": "Sigit Adinugroho",
      "photoUrl": "",
      "userId": "09413249286262312471"
     },
     "user_tz": -420
    },
    "id": "8urCZF4p5iq6",
    "outputId": "4e0ff13b-a81b-4499-d4ba-9ecda2ad913a"
   },
   "outputs": [
    {
     "name": "stdout",
     "output_type": "stream",
     "text": [
      "This is line A\n"
     ]
    }
   ],
   "source": [
    "# Membaca berkas\n",
    "\n",
    "with open('Example2.txt', 'r') as testwritefile:\n",
    "    print(testwritefile.read())"
   ]
  },
  {
   "cell_type": "markdown",
   "metadata": {
    "colab_type": "text",
    "id": "C8BKcR235irI"
   },
   "source": [
    "Kita dapat menuliskan beberapa baris sekaligus dalam sebuah berkas"
   ]
  },
  {
   "cell_type": "code",
   "execution_count": 0,
   "metadata": {
    "colab": {},
    "colab_type": "code",
    "collapsed": true,
    "id": "oH73nTsg5irJ"
   },
   "outputs": [],
   "source": [
    "# Menuliskan beberapa baris dalam sebuah berkas\n",
    "\n",
    "with open('Example2.txt', 'w') as writefile:\n",
    "    writefile.write(\"This is line A\\n\")\n",
    "    writefile.write(\"This is line B\\n\")"
   ]
  },
  {
   "cell_type": "markdown",
   "metadata": {
    "colab_type": "text",
    "id": "Z6gFicYS5itF"
   },
   "source": [
    "Method  <code>.write()</code> bekerja dengan cara yang mirip dengan <code>.readline()</code>, hanya berbeda untuk menulis berkas. Prosesnya diilustrasikan pada gambar di bawah ini, warna yang berbeda menunjukkan perbedaan baris yang dituliskan pada berkas."
   ]
  },
  {
   "cell_type": "markdown",
   "metadata": {
    "colab_type": "text",
    "id": "1MfuqTA65itQ"
   },
   "source": [
    "<img src=\"https://s3-api.us-geo.objectstorage.softlayer.net/cf-courses-data/CognitiveClass/PY0101EN/Chapter%204/Images/WriteLine.png\" width=\"500\" />"
   ]
  },
  {
   "cell_type": "markdown",
   "metadata": {
    "colab_type": "text",
    "id": "478f92T_5itU"
   },
   "source": [
    "Anda dapat membaca berkas untuk mengecek hasilnya:"
   ]
  },
  {
   "cell_type": "code",
   "execution_count": 0,
   "metadata": {
    "colab": {
     "base_uri": "https://localhost:8080/",
     "height": 68
    },
    "colab_type": "code",
    "executionInfo": {
     "elapsed": 764,
     "status": "ok",
     "timestamp": 1561622314428,
     "user": {
      "displayName": "Sigit Adinugroho",
      "photoUrl": "",
      "userId": "09413249286262312471"
     },
     "user_tz": -420
    },
    "id": "K0x8cvlj5itX",
    "outputId": "219b33a3-e77c-41a4-9e11-61edcd0838ce"
   },
   "outputs": [
    {
     "name": "stdout",
     "output_type": "stream",
     "text": [
      "This is line A\n",
      "This is line B\n",
      "\n"
     ]
    }
   ],
   "source": [
    "# Mengecek apakah berkas berhasil ditulis\n",
    "\n",
    "with open('Example2.txt', 'r') as testwritefile:\n",
    "    print(testwritefile.read())"
   ]
  },
  {
   "cell_type": "markdown",
   "metadata": {
    "colab_type": "text",
    "id": "_aVnqp5QJM8Q"
   },
   "source": [
    "Penambahan argumen **a** pada fungsi <code>open</code> dapat digunakan untuk menambahkan baris di akhir teks"
   ]
  },
  {
   "cell_type": "code",
   "execution_count": 0,
   "metadata": {
    "colab": {},
    "colab_type": "code",
    "collapsed": true,
    "id": "UdUEsUPF5itg"
   },
   "outputs": [],
   "source": [
    "# Menambahkan baris baru pada akhir dokumen\n",
    "\n",
    "with open('Example2.txt', 'a') as testwritefile:\n",
    "    testwritefile.write(\"This is line C\\n\")"
   ]
  },
  {
   "cell_type": "markdown",
   "metadata": {
    "colab_type": "text",
    "id": "KBFhvppzKMDY"
   },
   "source": [
    "Jalankan cell di bawa untuk mengecek hasil penulisan"
   ]
  },
  {
   "cell_type": "code",
   "execution_count": 0,
   "metadata": {
    "colab": {},
    "colab_type": "code",
    "collapsed": true,
    "id": "0JD2weyB5its"
   },
   "outputs": [],
   "source": [
    "# Cek apakah terdapat penambahan baris di akhir dokumen.\n",
    "\n",
    "with open('Example2.txt', 'r') as testwritefile:\n",
    "    print(testwritefile.read())"
   ]
  },
  {
   "cell_type": "markdown",
   "metadata": {
    "colab_type": "text",
    "id": "Ob3pCPBvKuQv"
   },
   "source": [
    "Penulisan list ke sebuah berkas ***.txt** dilakukan dengan cara sebagai berikut"
   ]
  },
  {
   "cell_type": "code",
   "execution_count": 0,
   "metadata": {
    "colab": {},
    "colab_type": "code",
    "collapsed": true,
    "id": "PkG5F32s5it0"
   },
   "outputs": [],
   "source": [
    "# Contoh list teks\n",
    "\n",
    "Lines = [\"This is line A\\n\", \"This is line B\\n\", \"This is line C\\n\"]\n",
    "Lines"
   ]
  },
  {
   "cell_type": "code",
   "execution_count": 0,
   "metadata": {
    "colab": {},
    "colab_type": "code",
    "collapsed": true,
    "id": "Dpi-D5Ml5it9"
   },
   "outputs": [],
   "source": [
    "# Menuliskan isi list ke dokumen teks\n",
    "\n",
    "with open('Example2.txt', 'w') as writefile:\n",
    "    for line in Lines:\n",
    "        print(line)\n",
    "        writefile.write(line)"
   ]
  },
  {
   "cell_type": "markdown",
   "metadata": {
    "colab_type": "text",
    "id": "pdnRyqyl5iuS"
   },
   "source": [
    " Pengecekan proses di atas dilakukan dengan membaca dokumen teks dan menampilkan isinya:"
   ]
  },
  {
   "cell_type": "code",
   "execution_count": 0,
   "metadata": {
    "colab": {},
    "colab_type": "code",
    "collapsed": true,
    "id": "ar0LzXZP5iuX"
   },
   "outputs": [],
   "source": [
    "# Cek apakah isi list telah ditambahkan ke dokumen\n",
    "\n",
    "with open('Example2.txt', 'r') as testwritefile:\n",
    "    print(testwritefile.read())"
   ]
  },
  {
   "cell_type": "markdown",
   "metadata": {
    "colab_type": "text",
    "id": "8F6HzHpe5ivZ"
   },
   "source": [
    "Penambahan baris terakhir dapat dilakukan dengan menggunakan parameter **a** pada fungsi open (sama seperti contoh sebelumnya):"
   ]
  },
  {
   "cell_type": "code",
   "execution_count": 0,
   "metadata": {
    "colab": {},
    "colab_type": "code",
    "collapsed": true,
    "id": "vlOonGYd5ivb"
   },
   "outputs": [],
   "source": [
    "# Menambahkan baris terakhir pada dokumen\n",
    "\n",
    "with open('Example2.txt', 'a') as testwritefile:\n",
    "    testwritefile.write(\"This is line D\\n\")"
   ]
  },
  {
   "cell_type": "markdown",
   "metadata": {
    "colab_type": "text",
    "id": "f7ZpICIw5ivl"
   },
   "source": [
    "Hasil akhir dapat ditampilkan menggunakan kode pada cell di bawah ini: "
   ]
  },
  {
   "cell_type": "code",
   "execution_count": 0,
   "metadata": {
    "colab": {},
    "colab_type": "code",
    "collapsed": true,
    "id": "on16vvzO5ivp"
   },
   "outputs": [],
   "source": [
    "# Cek isi dokumen\n",
    "\n",
    "with open('Example2.txt', 'r') as testwritefile:\n",
    "    print(testwritefile.read())"
   ]
  },
  {
   "cell_type": "markdown",
   "metadata": {
    "colab_type": "text",
    "id": "xCNIFLNP5ivv"
   },
   "source": [
    "<hr>"
   ]
  },
  {
   "cell_type": "markdown",
   "metadata": {
    "colab_type": "text",
    "id": "0a3V_McV5ivx"
   },
   "source": [
    "<h2 id=\"copy\">Menyalin Berkas</h2> "
   ]
  },
  {
   "cell_type": "markdown",
   "metadata": {
    "colab_type": "text",
    "id": "QeoC-wCk5iwA"
   },
   "source": [
    "Lakukan penyalinan berkas **Example2.txt** ke **Example3.txt**"
   ]
  },
  {
   "cell_type": "code",
   "execution_count": 0,
   "metadata": {
    "colab": {},
    "colab_type": "code",
    "collapsed": true,
    "id": "73Ivlx-S5iwC"
   },
   "outputs": [],
   "source": [
    "# Salin berkas ke berkas lain\n",
    "\n",
    "with open('Example2.txt','r') as readfile:\n",
    "    with open('Example3.txt','w') as writefile:\n",
    "          for line in readfile:\n",
    "                writefile.write(line)"
   ]
  },
  {
   "cell_type": "markdown",
   "metadata": {
    "colab_type": "text",
    "id": "3RctGDFn5iwF"
   },
   "source": [
    "Lakukan pembacaan berkas untuk mengecek apakah proses penyalinan berkas telah berhasil:"
   ]
  },
  {
   "cell_type": "code",
   "execution_count": 0,
   "metadata": {
    "colab": {},
    "colab_type": "code",
    "collapsed": true,
    "id": "fHQ8oCwL5iwJ"
   },
   "outputs": [],
   "source": [
    "# Cek apakah penyalinan berkas berhasil\n",
    "\n",
    "with open('Example3.txt','r') as testwritefile:\n",
    "    print(testwritefile.read())"
   ]
  },
  {
   "cell_type": "markdown",
   "metadata": {
    "colab_type": "text",
    "id": "ubTzsgxA5ixt"
   },
   "source": [
    "<h3>About the Authors:</h3>  \n",
    "<p><a href=\"https://www.linkedin.com/in/joseph-s-50398b136/\" target=\"_blank\">Joseph Santarcangelo</a> is a Data Scientist at IBM, and holds a PhD in Electrical Engineering. His research focused on using Machine Learning, Signal Processing, and Computer Vision to determine how videos impact human cognition. Joseph has been working for IBM since he completed his PhD.</p>"
   ]
  },
  {
   "cell_type": "markdown",
   "metadata": {
    "colab_type": "text",
    "id": "bRkNMIhD5ix7"
   },
   "source": [
    "Other contributors: <a href=\"www.linkedin.com/in/jiahui-mavis-zhou-a4537814a\">Mavis Zhou</a>"
   ]
  },
  {
   "cell_type": "markdown",
   "metadata": {
    "colab_type": "text",
    "id": "bXFx_fuM5ix9"
   },
   "source": [
    "<hr>"
   ]
  },
  {
   "cell_type": "markdown",
   "metadata": {
    "colab_type": "text",
    "id": "LbhBCGIc5ix-"
   },
   "source": [
    "<p>Copyright &copy; 2018 IBM Developer Skills Network. This notebook and its source code are released under the terms of the <a href=\"https://cognitiveclass.ai/mit-license/\">MIT License</a>.</p>"
   ]
  }
 ],
 "metadata": {
  "colab": {
   "collapsed_sections": [],
   "name": "Lab-Sesi10-2.ipynb",
   "provenance": [],
   "version": "0.3.2"
  },
  "kernelspec": {
   "display_name": "Python 3",
   "language": "python",
   "name": "python3"
  },
  "language_info": {
   "codemirror_mode": {
    "name": "ipython",
    "version": 3
   },
   "file_extension": ".py",
   "mimetype": "text/x-python",
   "name": "python",
   "nbconvert_exporter": "python",
   "pygments_lexer": "ipython3",
   "version": "3.6.3"
  }
 },
 "nbformat": 4,
 "nbformat_minor": 1
}
