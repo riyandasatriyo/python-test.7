{
 "cells": [
  {
   "cell_type": "markdown",
   "metadata": {
    "colab_type": "text",
    "id": "xlQA7pU8xL_N"
   },
   "source": [
    "![title](img/header.png)"
   ]
  },
  {
   "cell_type": "markdown",
   "metadata": {
    "colab_type": "text",
    "id": "yhINvcJIxL_O"
   },
   "source": [
    "<h1>Membaca Berkas di Python</h1>"
   ]
  },
  {
   "cell_type": "markdown",
   "metadata": {
    "colab_type": "text",
    "id": "7KWn_ufixL_O"
   },
   "source": [
    "\n",
    "\n",
    "<p>Pada notebook ini Anda akan mempelajari cara membaca berkas (<i>file</i>) pada bahasa Python. Pada akhir lab ini, Anda diharapkan mampu membaca berkas teks.</p>"
   ]
  },
  {
   "cell_type": "markdown",
   "metadata": {
    "colab_type": "text",
    "id": "WBBM-gclxL_P"
   },
   "source": [
    "\n",
    "<h2>Daftar Isi</h2>\n",
    "<div class=\"alert alert-block alert-info\" style=\"margin-top: 20px\">\n",
    "    <ul>\n",
    "        <li><a href=\"download\">Download Data</a></li>\n",
    "        <li><a href=\"read\">Membaca Berkas Teks</a></li>\n",
    "        <li><a href=\"better\">Cara Membaca Berkas yang Lebih Baik</a></li>\n",
    "    </ul>\n",
    "    <p>\n",
    "        Perkiraan waktu pengerjaan: <strong>40 min</strong>\n",
    "    </p>\n",
    "</div>\n",
    "\n",
    "<hr>"
   ]
  },
  {
   "cell_type": "markdown",
   "metadata": {
    "colab_type": "text",
    "id": "2WXOfF3ZxL_Q"
   },
   "source": [
    "<h2 id=\"download\">Download Data</h2>"
   ]
  },
  {
   "cell_type": "code",
   "execution_count": 0,
   "metadata": {
    "colab": {},
    "colab_type": "code",
    "collapsed": true,
    "id": "6Ww3rAMNxL_R"
   },
   "outputs": [],
   "source": [
    "# Download Example file\n",
    "\n",
    "!wget -O Example1.txt https://s3-api.us-geo.objectstorage.softlayer.net/cf-courses-data/CognitiveClass/PY0101EN/labs/example1.txt"
   ]
  },
  {
   "cell_type": "markdown",
   "metadata": {
    "colab_type": "text",
    "id": "WQ9BTyAnxL_U"
   },
   "source": [
    "<hr>"
   ]
  },
  {
   "cell_type": "markdown",
   "metadata": {
    "colab_type": "text",
    "id": "9Uab5vJdxL_V"
   },
   "source": [
    "\n",
    "\n",
    "\n",
    "<h2 id=\"read\">Membaca Berkas Teks</h2>"
   ]
  },
  {
   "cell_type": "markdown",
   "metadata": {
    "colab_type": "text",
    "id": "PvE8SuUtxL_W"
   },
   "source": [
    "Salah satu cara untuk membaca atau menulis berkas di Python adalah menggunakan fungsi bawaan <code>open</code>. Fungsi <code>open</code> menyediakan <b>File object</b> yang mengandung method dan atribut yang diperlukan untuk membaca, menyimpan, dan melakukan manipulasi berkas. Pada notebook ini, kita hanya mempelajari berkas <b>.txt</b>. Parameter yang diperlukan oleh fungsi <code>open</code> adalah path dan nama berkas. Berikut merupakan contoh penggunaan fungsi <code>open</code>:"
   ]
  },
  {
   "cell_type": "markdown",
   "metadata": {
    "colab_type": "text",
    "id": "5yMYnnjgxL_W"
   },
   "source": [
    "<img src=\"https://s3-api.us-geo.objectstorage.softlayer.net/cf-courses-data/CognitiveClass/PY0101EN/Chapter%204/Images/ReadOpen.png\" width=\"500\" />"
   ]
  },
  {
   "cell_type": "markdown",
   "metadata": {
    "colab_type": "text",
    "id": "B8bq9jN6xL_X"
   },
   "source": [
    "Argumen mode bersifat opsional dengan nilai default  <b>r</b>. Pada notebook ini, hanya 2 mode yang dipelajari, yaitu :\n",
    "<ul>\n",
    "    <li><b>r</b> Read mode untuk membaca berkas </li>\n",
    "    <li><b>w</b> Write mode untuk menulis berkas</li>\n",
    "</ul>"
   ]
  },
  {
   "cell_type": "markdown",
   "metadata": {
    "colab_type": "text",
    "id": "-KI3opdfxL_Y"
   },
   "source": [
    "Pada contoh selanjutnya, kita akan menggunakan berkas  <b>Example1.txt</b>. Isi berkas tersebut adalah sebagai berikut:"
   ]
  },
  {
   "cell_type": "markdown",
   "metadata": {
    "colab_type": "text",
    "id": "m1UQeNI7xL_Y"
   },
   "source": [
    "<img src=\"https://s3-api.us-geo.objectstorage.softlayer.net/cf-courses-data/CognitiveClass/PY0101EN/Chapter%204/Images/ReadFile.png\" width=\"200\" />"
   ]
  },
  {
   "cell_type": "markdown",
   "metadata": {
    "colab_type": "text",
    "id": "k5sI9z4HxL_Z"
   },
   "source": [
    "Proses pembacaan berkas: "
   ]
  },
  {
   "cell_type": "code",
   "execution_count": 0,
   "metadata": {
    "colab": {},
    "colab_type": "code",
    "collapsed": true,
    "id": "b9P0QRSuxL_a"
   },
   "outputs": [],
   "source": [
    "# Membaca Example1.txt\n",
    "\n",
    "example1 = \"Example1.txt\"\n",
    "file1 = open(example1, \"r\")"
   ]
  },
  {
   "cell_type": "markdown",
   "metadata": {
    "colab_type": "text",
    "id": "U2e23he2xL_e"
   },
   "source": [
    "Menampilkan nama berkas:"
   ]
  },
  {
   "cell_type": "code",
   "execution_count": 0,
   "metadata": {
    "colab": {},
    "colab_type": "code",
    "collapsed": true,
    "id": "8-985P2yxL_e"
   },
   "outputs": [],
   "source": [
    "# Menampilkan nama berkas\n",
    "\n",
    "file1.name"
   ]
  },
  {
   "cell_type": "markdown",
   "metadata": {
    "colab_type": "text",
    "id": "2v4yuTmGxL_g"
   },
   "source": [
    "Menampilkan mode dari berkas:"
   ]
  },
  {
   "cell_type": "code",
   "execution_count": 0,
   "metadata": {
    "colab": {},
    "colab_type": "code",
    "collapsed": true,
    "id": "lTGus_DxxL_h"
   },
   "outputs": [],
   "source": [
    "# Menampilkan mode berkas, berupa 'r' atau 'w'\n",
    "\n",
    "file1.mode"
   ]
  },
  {
   "cell_type": "markdown",
   "metadata": {
    "colab_type": "text",
    "id": "1OsPjBKvxL_n"
   },
   "source": [
    "\n",
    "Pembacaan berkas dilakukan menggunakan fungsi <code>read()</code> dan hasilnya diletakkan pada sebuah variabel"
   ]
  },
  {
   "cell_type": "code",
   "execution_count": 0,
   "metadata": {
    "colab": {},
    "colab_type": "code",
    "collapsed": true,
    "id": "f6tGxZSBxL_o"
   },
   "outputs": [],
   "source": [
    "# Membaca berkas\n",
    "\n",
    "FileContent = file1.read()\n",
    "FileContent"
   ]
  },
  {
   "cell_type": "markdown",
   "metadata": {
    "colab_type": "text",
    "id": "sxp0nOH9xL_q"
   },
   "source": [
    "Kode <b>/n</b> menandakan baris baru (new line)"
   ]
  },
  {
   "cell_type": "markdown",
   "metadata": {
    "colab_type": "text",
    "id": "aNNTWfwQxL_q"
   },
   "source": [
    "Menampilkan isi berkas"
   ]
  },
  {
   "cell_type": "code",
   "execution_count": 0,
   "metadata": {
    "colab": {},
    "colab_type": "code",
    "collapsed": true,
    "id": "R8Yb_2lFxL_s"
   },
   "outputs": [],
   "source": [
    "# Menampilkan isi berkas. Simbol '\\n' akan ditampilkan sebagai baris baru\n",
    "\n",
    "print(FileContent)"
   ]
  },
  {
   "cell_type": "markdown",
   "metadata": {
    "colab_type": "text",
    "id": "20tYpriYxL_v"
   },
   "source": [
    "Menampilkan tipe data"
   ]
  },
  {
   "cell_type": "code",
   "execution_count": 0,
   "metadata": {
    "colab": {},
    "colab_type": "code",
    "collapsed": true,
    "id": "HEt549KVxL_v"
   },
   "outputs": [],
   "source": [
    "# Tipe data dari isi berkas\n",
    "\n",
    "type(FileContent)"
   ]
  },
  {
   "cell_type": "markdown",
   "metadata": {
    "colab_type": "text",
    "id": "B9r2mq8UxL_y"
   },
   "source": [
    "Pembacaan berkas harus diakhiri dengan menutup berkas menggunakan fungsi <code>close()</code>"
   ]
  },
  {
   "cell_type": "code",
   "execution_count": 0,
   "metadata": {
    "colab": {},
    "colab_type": "code",
    "collapsed": true,
    "id": "unaxEvZVxL_y"
   },
   "outputs": [],
   "source": [
    "# Menutup berkas setelah dibaca\n",
    "\n",
    "file1.close()"
   ]
  },
  {
   "cell_type": "markdown",
   "metadata": {
    "colab_type": "text",
    "id": "SPx6Jx6PxL_1"
   },
   "source": [
    "<hr>"
   ]
  },
  {
   "cell_type": "markdown",
   "metadata": {
    "colab_type": "text",
    "id": "MGZcFpCkxL_1"
   },
   "source": [
    "<h2 id=\"better\">Cara Membaca Berkas yang Lebih Baik</h2>"
   ]
  },
  {
   "cell_type": "markdown",
   "metadata": {
    "colab_type": "text",
    "id": "zW-2EjAixL_2"
   },
   "source": [
    "Cara membaca berkas yang lebih baik adalah menggunakan perintah <code>with</code> yang akan menutup berkas secara otomatis, bahkan jika terjadi error. Perintah <code>with</code> akan membentuk blok program baru dan menutup berkas di akhir blok"
   ]
  },
  {
   "cell_type": "code",
   "execution_count": 0,
   "metadata": {
    "colab": {},
    "colab_type": "code",
    "collapsed": true,
    "id": "3_zDJa8LxL_2"
   },
   "outputs": [],
   "source": [
    "# Membuka berkas menggunakan with\n",
    "\n",
    "with open(example1, \"r\") as file1:\n",
    "    FileContent = file1.read()\n",
    "    print(FileContent)"
   ]
  },
  {
   "cell_type": "markdown",
   "metadata": {
    "colab_type": "text",
    "id": "gJaDSoRDxL_5"
   },
   "source": [
    "\n",
    "Objek berkas telah tertutup. Anda dapat mengujinya pada cell di bawah ini:"
   ]
  },
  {
   "cell_type": "code",
   "execution_count": 0,
   "metadata": {
    "colab": {},
    "colab_type": "code",
    "collapsed": true,
    "id": "fzyMHhyAxL_6"
   },
   "outputs": [],
   "source": [
    "# Mengecek jika berkas telah tertutup\n",
    "\n",
    "file1.closed"
   ]
  },
  {
   "cell_type": "markdown",
   "metadata": {
    "colab_type": "text",
    "id": "47elw5N8xL_8"
   },
   "source": [
    " We can see the info in the file:"
   ]
  },
  {
   "cell_type": "code",
   "execution_count": 0,
   "metadata": {
    "colab": {},
    "colab_type": "code",
    "collapsed": true,
    "id": "wa71RDayxL_9"
   },
   "outputs": [],
   "source": [
    "# Menampilkan isi berkas\n",
    "\n",
    "print(FileContent)"
   ]
  },
  {
   "cell_type": "markdown",
   "metadata": {
    "colab_type": "text",
    "id": "ZF9RYcWxxMAA"
   },
   "source": [
    "Pembacaan file menggunakan <code>with</code> sedikit membingungkan karena objek berkas berada setelah perintah <code>as</code>. Gambar di bawah ini menunjukkan langkah-langkah pembacaan berkas:"
   ]
  },
  {
   "cell_type": "markdown",
   "metadata": {
    "colab_type": "text",
    "id": "jym5RRLexMAB"
   },
   "source": [
    "<img src=\"https://s3-api.us-geo.objectstorage.softlayer.net/cf-courses-data/CognitiveClass/PY0101EN/Chapter%204/Images/ReadWith.png\" width=\"500\" />"
   ]
  },
  {
   "cell_type": "markdown",
   "metadata": {
    "colab_type": "text",
    "id": "m16WoekdxMAF"
   },
   "source": [
    "\n",
    "Pada beberapa kondisi, kita tidak perlu membaca keseluruhan isi berkas, misalnya hanya perlu membaca 4 karakter pertama. Hal tersebut dapat dilakukan dengan memberikan angka 4 sebagai parameter pada fungsi <code>read()</code>"
   ]
  },
  {
   "cell_type": "code",
   "execution_count": 0,
   "metadata": {
    "colab": {},
    "colab_type": "code",
    "collapsed": true,
    "id": "Q2kn83ZFxMAG"
   },
   "outputs": [],
   "source": [
    "# Membaca 4 karakter pertama pada berkas\n",
    "\n",
    "with open(example1, \"r\") as file1:\n",
    "    print(file1.read(4))"
   ]
  },
  {
   "cell_type": "markdown",
   "metadata": {
    "colab_type": "text",
    "id": "OdxSiG0jxMAL"
   },
   "source": [
    "Ketika fungsi <code>read(4)</code> dipanggil, 4 karakter pertama akan dibaca dari berkas. Jika fungsi <code>read(4)</code> dipanggil lagi, 4 karakter selanjutnya akan dibaca. Jalankan cell di bawah ini:"
   ]
  },
  {
   "cell_type": "code",
   "execution_count": 0,
   "metadata": {
    "colab": {},
    "colab_type": "code",
    "collapsed": true,
    "id": "sCHuCVf8xMAM"
   },
   "outputs": [],
   "source": [
    "# Membaca beberapa karakter pertama pada berkas\n",
    "\n",
    "with open(example1, \"r\") as file1:\n",
    "    print(file1.read(4))\n",
    "    print(file1.read(4))\n",
    "    print(file1.read(7))\n",
    "    print(file1.read(15))"
   ]
  },
  {
   "cell_type": "markdown",
   "metadata": {
    "colab_type": "text",
    "id": "O5Grkw3qxMAP"
   },
   "source": [
    "Proses pembacaan di atas diilustrasikan pada gambar di bawah ini. Setiap warna menggambarkan bagian dari berkas yang dibaca setelah fungsi <code>read()</code> dijalankan."
   ]
  },
  {
   "cell_type": "markdown",
   "metadata": {
    "colab_type": "text",
    "id": "C_1fqO85xMAP"
   },
   "source": [
    "<img src=\"https://s3-api.us-geo.objectstorage.softlayer.net/cf-courses-data/CognitiveClass/PY0101EN/Chapter%204/Images/ReadChar.png\" width=\"500\" />"
   ]
  },
  {
   "cell_type": "markdown",
   "metadata": {
    "colab_type": "text",
    "id": "wzQ1v_YWxMAQ"
   },
   "source": [
    "\n",
    "\n",
    "Berikut contoh pembacaan berkas yang sama, tetapi menggunakan 16, 5, dan kemudian 9\n",
    "\n"
   ]
  },
  {
   "cell_type": "code",
   "execution_count": 0,
   "metadata": {
    "colab": {},
    "colab_type": "code",
    "collapsed": true,
    "id": "JukJh4lqxMAQ"
   },
   "outputs": [],
   "source": [
    "# Membaca beberapa karakter pertama pada berkas\n",
    "\n",
    "with open(example1, \"r\") as file1:\n",
    "    print(file1.read(16))\n",
    "    print(file1.read(5))\n",
    "    print(file1.read(9))"
   ]
  },
  {
   "cell_type": "markdown",
   "metadata": {
    "colab_type": "text",
    "id": "s_IEkfNJxMAS"
   },
   "source": [
    "Pembacaan berkas juga dapat dilakukan per baris menggunakan fungsi <code>readline()</code>:"
   ]
  },
  {
   "cell_type": "code",
   "execution_count": 0,
   "metadata": {
    "colab": {},
    "colab_type": "code",
    "collapsed": true,
    "id": "0VLSnuTrxMAT"
   },
   "outputs": [],
   "source": [
    "# Membaca satu baris\n",
    "\n",
    "with open(example1, \"r\") as file1:\n",
    "    print(\"first line: \" + file1.readline())"
   ]
  },
  {
   "cell_type": "markdown",
   "metadata": {
    "colab_type": "text",
    "id": "vonDIuYNxMAU"
   },
   "source": [
    "Pembacaan keseluruhan baris dapat pula dilakukan menggunakan looping per baris"
   ]
  },
  {
   "cell_type": "code",
   "execution_count": 0,
   "metadata": {
    "colab": {},
    "colab_type": "code",
    "collapsed": true,
    "id": "7_Hc123ExMAV"
   },
   "outputs": [],
   "source": [
    "# Looping per baris\n",
    "\n",
    "with open(example1,\"r\") as file1:\n",
    "        i = 0;\n",
    "        for line in file1:\n",
    "            print(\"Iteration\", str(i), \": \", line)\n",
    "            i = i + 1;"
   ]
  },
  {
   "cell_type": "markdown",
   "metadata": {
    "colab_type": "text",
    "id": "jJiUIXndxMAX"
   },
   "source": [
    "Fungsi <code>readlines()</code>  digunakan untuk membaca berkas teks dan menyimpannya ke dalam sebuah list"
   ]
  },
  {
   "cell_type": "code",
   "execution_count": 0,
   "metadata": {
    "colab": {},
    "colab_type": "code",
    "collapsed": true,
    "id": "49ocmQb7xMAY"
   },
   "outputs": [],
   "source": [
    "# Membaca keseluruhan baris dan menyimpannya ke list\n",
    "\n",
    "with open(example1, \"r\") as file1:\n",
    "    FileasList = file1.readlines()"
   ]
  },
  {
   "cell_type": "markdown",
   "metadata": {
    "colab_type": "text",
    "id": "EeuvYaOTxMAZ"
   },
   "source": [
    "\n",
    "Setiap elemen pada list bersesuaian dengan sebuah baris pada teks"
   ]
  },
  {
   "cell_type": "code",
   "execution_count": 0,
   "metadata": {
    "colab": {},
    "colab_type": "code",
    "collapsed": true,
    "id": "gnwOcht3xMAa"
   },
   "outputs": [],
   "source": [
    "# Menampilkan beris pertama\n",
    "\n",
    "FileasList[0]"
   ]
  },
  {
   "cell_type": "code",
   "execution_count": 0,
   "metadata": {
    "colab": {},
    "colab_type": "code",
    "collapsed": true,
    "id": "py4ZSBXMxMAc"
   },
   "outputs": [],
   "source": [
    "# Menampilkan baris kedua\n",
    "\n",
    "FileasList[1]"
   ]
  },
  {
   "cell_type": "code",
   "execution_count": 0,
   "metadata": {
    "colab": {},
    "colab_type": "code",
    "collapsed": true,
    "id": "p7lQqVi-xMAf"
   },
   "outputs": [],
   "source": [
    "# Menampilkab baris ketiga\n",
    "\n",
    "FileasList[2]"
   ]
  },
  {
   "cell_type": "markdown",
   "metadata": {
    "colab_type": "text",
    "id": "iEn4QiJcxMAi"
   },
   "source": [
    "<h3>About the Authors:</h3>  \n",
    "<p><a href=\"https://www.linkedin.com/in/joseph-s-50398b136/\" target=\"_blank\">Joseph Santarcangelo</a> is a Data Scientist at IBM, and holds a PhD in Electrical Engineering. His research focused on using Machine Learning, Signal Processing, and Computer Vision to determine how videos impact human cognition. Joseph has been working for IBM since he completed his PhD.</p>"
   ]
  },
  {
   "cell_type": "markdown",
   "metadata": {
    "colab_type": "text",
    "id": "yrOniAnFxMAj"
   },
   "source": [
    "Other contributors: <a href=\"www.linkedin.com/in/jiahui-mavis-zhou-a4537814a\">Mavis Zhou</a>"
   ]
  },
  {
   "cell_type": "markdown",
   "metadata": {
    "colab_type": "text",
    "id": "yrP1fn2bxMAk"
   },
   "source": [
    "<hr>"
   ]
  },
  {
   "cell_type": "markdown",
   "metadata": {
    "colab_type": "text",
    "id": "J2itjcy3xMAm"
   },
   "source": [
    "<p>Copyright &copy; 2018 IBM Developer Skills Network. This notebook and its source code are released under the terms of the <a href=\"https://cognitiveclass.ai/mit-license/\">MIT License</a>.</p>"
   ]
  }
 ],
 "metadata": {
  "colab": {
   "collapsed_sections": [],
   "name": "Lab-Sesi10-1.ipynb",
   "provenance": [],
   "version": "0.3.2"
  },
  "kernelspec": {
   "display_name": "Python 3",
   "language": "python",
   "name": "python3"
  },
  "language_info": {
   "codemirror_mode": {
    "name": "ipython",
    "version": 3
   },
   "file_extension": ".py",
   "mimetype": "text/x-python",
   "name": "python",
   "nbconvert_exporter": "python",
   "pygments_lexer": "ipython3",
   "version": "3.6.3"
  }
 },
 "nbformat": 4,
 "nbformat_minor": 1
}
